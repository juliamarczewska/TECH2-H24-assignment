{
 "cells": [
  {
   "cell_type": "markdown",
   "metadata": {},
   "source": [
    "# TECH 2 mandatory assignment - Part B\n",
    "\n",
    "Write your solution for Part B in this notebook."
   ]
  },
  {
   "cell_type": "code",
   "execution_count": 21,
   "metadata": {},
   "outputs": [
    {
     "name": "stdout",
     "output_type": "stream",
     "text": [
      "Standard deviation using loops:\n",
      "31.5 μs ± 1.07 μs per loop (mean ± std. dev. of 7 runs, 10,000 loops each)\n",
      "31.6 μs ± 1.28 μs per loop (mean ± std. dev. of 7 runs, 10,000 loops each)\n",
      "31.1 μs ± 1.04 μs per loop (mean ± std. dev. of 7 runs, 10,000 loops each)\n",
      "Standard deviation using built-in functions:\n",
      "26.4 μs ± 700 ns per loop (mean ± std. dev. of 7 runs, 10,000 loops each)\n",
      "25.8 μs ± 693 ns per loop (mean ± std. dev. of 7 runs, 10,000 loops each)\n",
      "25.7 μs ± 352 ns per loop (mean ± std. dev. of 7 runs, 10,000 loops each)\n",
      "Standard deviation using NumPy:\n",
      "19 μs ± 662 ns per loop (mean ± std. dev. of 7 runs, 100,000 loops each)\n",
      "19 μs ± 1.69 μs per loop (mean ± std. dev. of 7 runs, 10,000 loops each)\n",
      "19.9 μs ± 784 ns per loop (mean ± std. dev. of 7 runs, 10,000 loops each)\n"
     ]
    }
   ],
   "source": [
    "import numpy as np\n",
    "import csv\n",
    "\n",
    "# Initialize the columns\n",
    "col1, col2, col3 = [], [], []\n",
    "\n",
    "# Read the CSV file and store the columns in lists\n",
    "with open('data.csv', 'r') as file:\n",
    "    reader = csv.reader(file)\n",
    "    for row in reader:\n",
    "        try:\n",
    "            # Check if the row has valid numeric values\n",
    "            if row[0] and row[1] and row[2]:  # Ensure no empty values\n",
    "                col1.append(float(row[0]))\n",
    "                col2.append(float(row[1]))\n",
    "                col3.append(float(row[2]))\n",
    "        except ValueError:\n",
    "            # Skip rows with non-numeric values\n",
    "            continue\n",
    "\n",
    "# Convert lists to NumPy arrays for consistency\n",
    "col1 = np.array(col1)\n",
    "col2 = np.array(col2)\n",
    "col3 = np.array(col3)\n",
    "\n",
    "from part_A import std_loops, std_builtin, std_numpy\n",
    "\n",
    "# Calculate and time the standard deviation using loops\n",
    "print(\"Standard deviation using loops:\")\n",
    "%timeit std_loops(col1)\n",
    "%timeit std_loops(col2)\n",
    "%timeit std_loops(col3)\n",
    "\n",
    "# Calculate and time the standard deviation using built-in functions\n",
    "print(\"Standard deviation using built-in functions:\")\n",
    "%timeit std_builtin(col1)\n",
    "%timeit std_builtin(col2)\n",
    "%timeit std_builtin(col3)\n",
    "\n",
    "# Calculate and time the standard deviation using NumPy\n",
    "print(\"Standard deviation using NumPy:\")\n",
    "%timeit np.std(col1)\n",
    "%timeit np.std(col2)\n",
    "%timeit np.std(col3)\n",
    "\n",
    "\n",
    "\n",
    "\n"
   ]
  },
  {
   "cell_type": "code",
   "execution_count": null,
   "metadata": {},
   "outputs": [],
   "source": [
    "#In conclusion, for larger datasets, std from NumPy method is the fastest way to compute standard deviation.\n"
   ]
  }
 ],
 "metadata": {
  "kernelspec": {
   "display_name": "Python 3 (ipykernel)",
   "language": "python",
   "name": "python3"
  },
  "language_info": {
   "codemirror_mode": {
    "name": "ipython",
    "version": 3
   },
   "file_extension": ".py",
   "mimetype": "text/x-python",
   "name": "python",
   "nbconvert_exporter": "python",
   "pygments_lexer": "ipython3",
   "version": "3.12.4"
  }
 },
 "nbformat": 4,
 "nbformat_minor": 4
}
